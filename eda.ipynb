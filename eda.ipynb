{
 "cells": [
  {
   "cell_type": "code",
   "execution_count": 32,
   "id": "initial_id",
   "metadata": {
    "collapsed": true,
    "ExecuteTime": {
     "end_time": "2023-08-27T07:53:56.127803600Z",
     "start_time": "2023-08-27T07:53:56.111566600Z"
    }
   },
   "outputs": [],
   "source": [
    "import pandas as pd \n",
    "import numpy as np "
   ]
  },
  {
   "cell_type": "code",
   "execution_count": null,
   "outputs": [],
   "source": [
    "def post_process(line):\n",
    "    seq = ''.join(line.split()).upper().replace(\"-\", \"\")\n",
    "    seq = seq.replace('U','X').replace('Z', 'X').replace('O', 'X')\n",
    "    return seq "
   ],
   "metadata": {
    "collapsed": false
   },
   "id": "f69296ed39596751"
  },
  {
   "cell_type": "code",
   "execution_count": 56,
   "id": "4f1e14928153ab8",
   "metadata": {
    "collapsed": false,
    "ExecuteTime": {
     "end_time": "2023-08-27T08:10:43.583758200Z",
     "start_time": "2023-08-27T08:10:35.924086900Z"
    }
   },
   "outputs": [],
   "source": [
    "train = pd.read_csv('/home/zhuxh/data/TemStaPro/train.csv')"
   ]
  },
  {
   "cell_type": "code",
   "execution_count": 57,
   "outputs": [
    {
     "data": {
      "text/plain": "(2175710, 9)"
     },
     "execution_count": 57,
     "metadata": {},
     "output_type": "execute_result"
    }
   ],
   "source": [
    "train.shape"
   ],
   "metadata": {
    "collapsed": false,
    "ExecuteTime": {
     "end_time": "2023-08-27T08:10:43.629177Z",
     "start_time": "2023-08-27T08:10:43.586800600Z"
    }
   },
   "id": "dc74a3d479d78238"
  },
  {
   "cell_type": "code",
   "execution_count": 58,
   "outputs": [],
   "source": [
    "train['seq_len'] = train['sequence'].str.len()\n",
    "train = train[train['seq_len'] < 1000].copy()\n",
    "train['sequence'] = train['sequence'].apply(post_process)"
   ],
   "metadata": {
    "collapsed": false,
    "ExecuteTime": {
     "end_time": "2023-08-27T08:10:48.668613700Z",
     "start_time": "2023-08-27T08:10:43.998677Z"
    }
   },
   "id": "8e9fb158cb2814bf"
  },
  {
   "cell_type": "code",
   "execution_count": 60,
   "outputs": [
    {
     "data": {
      "text/plain": "0.1     98.0\n0.2    142.0\n0.3    183.0\n0.4    226.0\n0.5    268.0\n0.6    312.0\n0.7    363.0\n0.8    429.0\n0.9    535.0\nName: seq_len, dtype: float64"
     },
     "execution_count": 60,
     "metadata": {},
     "output_type": "execute_result"
    }
   ],
   "source": [
    "train['seq_len'].quantile([0.1, 0.2, 0.3, 0.4, 0.5, 0.6, 0.7, 0.8, 0.9])"
   ],
   "metadata": {
    "collapsed": false,
    "ExecuteTime": {
     "end_time": "2023-08-27T08:11:10.664526600Z",
     "start_time": "2023-08-27T08:11:10.596825600Z"
    }
   },
   "id": "ce7f1211dd25e8fe"
  },
  {
   "cell_type": "code",
   "execution_count": 62,
   "id": "b8a0da0c62574676",
   "metadata": {
    "collapsed": false,
    "ExecuteTime": {
     "end_time": "2023-08-27T08:11:30.923651Z",
     "start_time": "2023-08-27T08:11:29.400179300Z"
    }
   },
   "outputs": [],
   "source": [
    "test = pd.read_csv('/home/zhuxh/data/TemStaPro/test.csv')"
   ]
  },
  {
   "cell_type": "code",
   "execution_count": 64,
   "id": "91459cef29021642",
   "metadata": {
    "collapsed": false,
    "ExecuteTime": {
     "end_time": "2023-08-27T08:11:37.463914Z",
     "start_time": "2023-08-27T08:11:37.435467500Z"
    }
   },
   "outputs": [
    {
     "data": {
      "text/plain": "(491100, 2)"
     },
     "execution_count": 64,
     "metadata": {},
     "output_type": "execute_result"
    }
   ],
   "source": [
    "test.shape"
   ]
  },
  {
   "cell_type": "code",
   "execution_count": 65,
   "outputs": [],
   "source": [
    "test['seq_len'] = test['sequence'].str.len()\n",
    "test = test[test['seq_len'] < 1000].copy()"
   ],
   "metadata": {
    "collapsed": false,
    "ExecuteTime": {
     "end_time": "2023-08-27T08:12:20.118407Z",
     "start_time": "2023-08-27T08:12:19.802336800Z"
    }
   },
   "id": "b0866e570d2e551a"
  },
  {
   "cell_type": "code",
   "execution_count": 66,
   "outputs": [
    {
     "data": {
      "text/plain": "(481487, 3)"
     },
     "execution_count": 66,
     "metadata": {},
     "output_type": "execute_result"
    }
   ],
   "source": [
    "test.shape "
   ],
   "metadata": {
    "collapsed": false,
    "ExecuteTime": {
     "end_time": "2023-08-27T08:12:23.891474100Z",
     "start_time": "2023-08-27T08:12:23.878280800Z"
    }
   },
   "id": "1b09ac59da690443"
  },
  {
   "cell_type": "code",
   "execution_count": 67,
   "outputs": [],
   "source": [
    "test['sequence'] = test['sequence'].apply(post_process)"
   ],
   "metadata": {
    "collapsed": false,
    "ExecuteTime": {
     "end_time": "2023-08-27T08:13:24.848003400Z",
     "start_time": "2023-08-27T08:13:24.067820900Z"
    }
   },
   "id": "ca51950dac1a61a8"
  },
  {
   "cell_type": "code",
   "execution_count": 121,
   "outputs": [],
   "source": [
    "test.to_csv('/home/zhuxh/data/TemStaPro/test_kickup.csv', index=None)"
   ],
   "metadata": {
    "collapsed": false,
    "ExecuteTime": {
     "end_time": "2023-08-27T11:08:23.123712600Z",
     "start_time": "2023-08-27T11:08:20.029723500Z"
    }
   },
   "id": "1faaf9e3384d45a"
  },
  {
   "cell_type": "code",
   "execution_count": 102,
   "outputs": [],
   "source": [
    "from sklearn.model_selection import GroupKFold\n",
    "group_kfold = GroupKFold(n_splits=5)\n",
    "ar = list(group_kfold.split(train['sequence'], train['sequence'], train['cluster']))\n",
    "dp = [train.index.values[i[1]] for i in ar]\n",
    "for i,j in enumerate(dp):\n",
    "    if i in [0, 1, 2, 3]:\n",
    "        train.loc[j, 'set']='1train'\n",
    "    else:\n",
    "        train.loc[j, 'set']='2test'"
   ],
   "metadata": {
    "collapsed": false,
    "ExecuteTime": {
     "end_time": "2023-08-27T10:56:21.099878300Z",
     "start_time": "2023-08-27T10:56:19.990843500Z"
    }
   },
   "id": "437bbdad91c1338b"
  },
  {
   "cell_type": "code",
   "execution_count": 120,
   "outputs": [],
   "source": [
    "train[train['set']=='1train'].to_csv('/home/zhuxh/data/TemStaPro/train_kickup.csv', index=None)\n",
    "train[train['set']=='2test'].to_csv('/home/zhuxh/data/TemStaPro/val_kickup.csv', index=None)"
   ],
   "metadata": {
    "collapsed": false,
    "ExecuteTime": {
     "end_time": "2023-08-27T11:05:02.285532800Z",
     "start_time": "2023-08-27T11:04:46.760783600Z"
    }
   },
   "id": "1b55e6290426aef"
  },
  {
   "cell_type": "code",
   "execution_count": 2,
   "id": "f6f7b3ddcf14e41d",
   "metadata": {
    "collapsed": false,
    "ExecuteTime": {
     "end_time": "2023-08-25T03:05:59.673070300Z",
     "start_time": "2023-08-25T03:05:59.351882Z"
    }
   },
   "outputs": [],
   "source": [
    "#这里以bert模型为例，使用上述提到的函数\n",
    "from transformers import BertTokenizer"
   ]
  },
  {
   "cell_type": "code",
   "execution_count": 3,
   "id": "90fa64756353180e",
   "metadata": {
    "collapsed": false,
    "ExecuteTime": {
     "end_time": "2023-08-25T03:06:01.532047900Z",
     "start_time": "2023-08-25T03:06:00.277460300Z"
    }
   },
   "outputs": [],
   "source": [
    "tokenizer = BertTokenizer.from_pretrained('bert-base-uncased')\n",
    "text = \"It's a nice day today!\""
   ]
  },
  {
   "cell_type": "code",
   "execution_count": 4,
   "id": "bcb6c06ef019b72",
   "metadata": {
    "collapsed": false,
    "ExecuteTime": {
     "end_time": "2023-08-25T03:06:01.564372700Z",
     "start_time": "2023-08-25T03:06:01.530047500Z"
    }
   },
   "outputs": [
    {
     "name": "stdout",
     "output_type": "stream",
     "text": [
      "tokenize分词结果：\n",
      " ['it', \"'\", 's', 'a', 'nice', 'day', 'today', '!']\n"
     ]
    }
   ],
   "source": [
    "#tokenize,#仅用于分词\n",
    "seg_words = tokenizer.tokenize(text)  \n",
    "print(\"tokenize分词结果：\\n\",seg_words)"
   ]
  },
  {
   "cell_type": "code",
   "execution_count": 5,
   "id": "2bb91f0c5a1c974f",
   "metadata": {
    "collapsed": false,
    "ExecuteTime": {
     "end_time": "2023-08-25T03:06:01.581769800Z",
     "start_time": "2023-08-25T03:06:01.538188100Z"
    }
   },
   "outputs": [
    {
     "name": "stdout",
     "output_type": "stream",
     "text": [
      "tokenize Id:\n",
      " [2009, 1005, 1055, 1037, 3835, 2154, 2651, 999]\n"
     ]
    }
   ],
   "source": [
    "seg_word_id = tokenizer.convert_tokens_to_ids(seg_words)  \n",
    "print(\"tokenize Id:\\n\",seg_word_id)"
   ]
  },
  {
   "cell_type": "code",
   "execution_count": 6,
   "id": "ec781148d5490c00",
   "metadata": {
    "collapsed": false,
    "ExecuteTime": {
     "end_time": "2023-08-25T03:06:01.637845800Z",
     "start_time": "2023-08-25T03:06:01.559295100Z"
    }
   },
   "outputs": [
    {
     "name": "stdout",
     "output_type": "stream",
     "text": [
      "encode结果：\n",
      " [101, 2009, 1005, 1055, 1037, 3835, 2154, 2651, 999, 102]\n"
     ]
    }
   ],
   "source": [
    "#encode,进行分词和token转换，encode=tokenize+convert_tokens_to_ids\n",
    "encode_text = tokenizer.encode(text)\n",
    "print(\"encode结果：\\n\",encode_text)"
   ]
  },
  {
   "cell_type": "code",
   "execution_count": 7,
   "id": "b5f3fdd428b50510",
   "metadata": {
    "collapsed": false,
    "ExecuteTime": {
     "end_time": "2023-08-25T03:06:02.156394500Z",
     "start_time": "2023-08-25T03:06:02.147309500Z"
    }
   },
   "outputs": [
    {
     "data": {
      "text/plain": "['[CLS]', 'it', \"'\", 's', 'a', 'nice', 'day', 'today', '!', '[SEP]']"
     },
     "execution_count": 7,
     "metadata": {},
     "output_type": "execute_result"
    }
   ],
   "source": [
    "tokenizer.convert_ids_to_tokens(encode_text)"
   ]
  },
  {
   "cell_type": "code",
   "execution_count": 8,
   "outputs": [
    {
     "data": {
      "text/plain": "\"It's a nice day today!\""
     },
     "execution_count": 8,
     "metadata": {},
     "output_type": "execute_result"
    }
   ],
   "source": [
    "text "
   ],
   "metadata": {
    "collapsed": false,
    "ExecuteTime": {
     "end_time": "2023-08-25T03:06:03.262233300Z",
     "start_time": "2023-08-25T03:06:03.258228Z"
    }
   },
   "id": "86bb176dcd90131f"
  },
  {
   "cell_type": "code",
   "execution_count": 21,
   "id": "37cb4e10d69659a",
   "metadata": {
    "collapsed": false,
    "ExecuteTime": {
     "end_time": "2023-08-25T03:16:08.707159900Z",
     "start_time": "2023-08-25T03:16:07.728380900Z"
    }
   },
   "outputs": [
    {
     "name": "stdout",
     "output_type": "stream",
     "text": [
      "encode_plus结果：\n",
      " {'input_ids': tensor([[ 101, 2009, 1005, 1055, 1037, 3835, 2154, 2651,  999,  102,    0,    0,\n",
      "            0,    0,    0,    0,    0,    0,    0,    0]]), 'token_type_ids': tensor([[0, 0, 0, 0, 0, 0, 0, 0, 0, 0, 0, 0, 0, 0, 0, 0, 0, 0, 0, 0]]), 'attention_mask': tensor([[1, 1, 1, 1, 1, 1, 1, 1, 1, 1, 0, 0, 0, 0, 0, 0, 0, 0, 0, 0]])}\n"
     ]
    }
   ],
   "source": [
    "#encode_plus,在encode的基础之上生成input_ids、token_type_ids、attention_mask\n",
    "encode_plus_text = tokenizer.encode_plus(text, add_special_tokens=True, padding='max_length', max_length=20, return_tensors='pt')\n",
    "print(\"encode_plus结果：\\n\",encode_plus_text)"
   ]
  },
  {
   "cell_type": "code",
   "execution_count": 19,
   "outputs": [
    {
     "name": "stdout",
     "output_type": "stream",
     "text": [
      "encode_plus结果：\n",
      " {'input_ids': [[101, 2009, 2003, 2204, 102], [101, 7929, 102, 0, 0]], 'token_type_ids': [[0, 0, 0, 0, 0], [0, 0, 0, 0, 0]], 'attention_mask': [[1, 1, 1, 1, 1], [1, 1, 1, 0, 0]]}\n"
     ]
    }
   ],
   "source": [
    "#encode_plus,在encode的基础之上生成input_ids、token_type_ids、attention_mask\n",
    "encode_plus_text = tokenizer.batch_encode_plus(['it is good', 'ok'], add_special_tokens=True, padding='longest')\n",
    "print(\"encode_plus结果：\\n\",encode_plus_text)"
   ],
   "metadata": {
    "collapsed": false,
    "ExecuteTime": {
     "end_time": "2023-08-25T03:10:58.927909300Z",
     "start_time": "2023-08-25T03:10:58.895914600Z"
    }
   },
   "id": "122853754cdac806"
  }
 ],
 "metadata": {
  "kernelspec": {
   "display_name": "Python 3",
   "language": "python",
   "name": "python3"
  },
  "language_info": {
   "codemirror_mode": {
    "name": "ipython",
    "version": 2
   },
   "file_extension": ".py",
   "mimetype": "text/x-python",
   "name": "python",
   "nbconvert_exporter": "python",
   "pygments_lexer": "ipython2",
   "version": "2.7.6"
  }
 },
 "nbformat": 4,
 "nbformat_minor": 5
}
