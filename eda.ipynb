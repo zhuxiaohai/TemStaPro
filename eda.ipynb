{
 "cells": [
  {
   "cell_type": "code",
   "execution_count": 1,
   "id": "initial_id",
   "metadata": {
    "collapsed": true,
    "ExecuteTime": {
     "end_time": "2023-08-31T07:43:54.126808400Z",
     "start_time": "2023-08-31T07:43:53.823379400Z"
    }
   },
   "outputs": [],
   "source": [
    "import pandas as pd \n",
    "import numpy as np "
   ]
  },
  {
   "cell_type": "code",
   "execution_count": 2,
   "outputs": [],
   "source": [
    "def post_process(line):\n",
    "    seq = ''.join(line.split()).upper().replace(\"-\", \"\")\n",
    "    seq = seq.replace('U','X').replace('Z', 'X').replace('O', 'X')\n",
    "    return seq "
   ],
   "metadata": {
    "collapsed": false,
    "ExecuteTime": {
     "end_time": "2023-08-31T07:43:54.727594900Z",
     "start_time": "2023-08-31T07:43:54.701309900Z"
    }
   },
   "id": "f69296ed39596751"
  },
  {
   "cell_type": "code",
   "execution_count": 3,
   "id": "4f1e14928153ab8",
   "metadata": {
    "collapsed": false,
    "ExecuteTime": {
     "end_time": "2023-08-30T01:58:09.334305900Z",
     "start_time": "2023-08-30T01:57:59.359392700Z"
    }
   },
   "outputs": [],
   "source": [
    "train = pd.read_csv('/home/zhuxh/data/TemStaPro/train.csv')"
   ]
  },
  {
   "cell_type": "code",
   "execution_count": 4,
   "outputs": [
    {
     "data": {
      "text/plain": "(2175710, 9)"
     },
     "execution_count": 4,
     "metadata": {},
     "output_type": "execute_result"
    }
   ],
   "source": [
    "train.shape"
   ],
   "metadata": {
    "collapsed": false,
    "ExecuteTime": {
     "end_time": "2023-08-30T01:58:09.384747300Z",
     "start_time": "2023-08-30T01:58:09.346562Z"
    }
   },
   "id": "dc74a3d479d78238"
  },
  {
   "cell_type": "code",
   "execution_count": 5,
   "outputs": [],
   "source": [
    "train['seq_len'] = train['sequence'].str.len()\n",
    "train = train[train['seq_len'] < 1000].copy()\n",
    "train['sequence'] = train['sequence'].apply(post_process)"
   ],
   "metadata": {
    "collapsed": false,
    "ExecuteTime": {
     "end_time": "2023-08-30T01:58:14.752405800Z",
     "start_time": "2023-08-30T01:58:09.611420600Z"
    }
   },
   "id": "8e9fb158cb2814bf"
  },
  {
   "cell_type": "code",
   "execution_count": 6,
   "outputs": [
    {
     "data": {
      "text/plain": "0.1     98.0\n0.2    142.0\n0.3    183.0\n0.4    226.0\n0.5    268.0\n0.6    312.0\n0.7    363.0\n0.8    429.0\n0.9    535.0\nName: seq_len, dtype: float64"
     },
     "execution_count": 6,
     "metadata": {},
     "output_type": "execute_result"
    }
   ],
   "source": [
    "train['seq_len'].quantile([0.1, 0.2, 0.3, 0.4, 0.5, 0.6, 0.7, 0.8, 0.9])"
   ],
   "metadata": {
    "collapsed": false,
    "ExecuteTime": {
     "end_time": "2023-08-30T01:58:14.962960300Z",
     "start_time": "2023-08-30T01:58:14.757405500Z"
    }
   },
   "id": "ce7f1211dd25e8fe"
  },
  {
   "cell_type": "code",
   "execution_count": null,
   "outputs": [],
   "source": [
    "from sklearn.model_selection import GroupKFold\n",
    "group_kfold = GroupKFold(n_splits=5)\n",
    "ar = list(group_kfold.split(train['sequence'], train['sequence'], train['cluster']))\n",
    "dp = [train.index.values[i[1]] for i in ar]\n",
    "for i,j in enumerate(dp):\n",
    "    if i in [0, 1, 2, 3]:\n",
    "        train.loc[j, 'set']='1train'\n",
    "    else:\n",
    "        train.loc[j, 'set']='2test'"
   ],
   "metadata": {
    "collapsed": false
   },
   "id": "5b6fb30c02aea914"
  },
  {
   "cell_type": "code",
   "execution_count": null,
   "outputs": [],
   "source": [
    "train[train['set']=='1train'].to_csv('/home/zhuxh/data/TemStaPro/train_kickup.csv', index=None)\n",
    "train[train['set']=='2test'].to_csv('/home/zhuxh/data/TemStaPro/val_kickup.csv', index=None)"
   ],
   "metadata": {
    "collapsed": false
   },
   "id": "68b7bb51fd013b31"
  },
  {
   "cell_type": "code",
   "execution_count": null,
   "outputs": [],
   "source": [
    "from sklearn.model_selection import train_test_split\n",
    "_, val_small = train_test_split(train[train['set']=='2test'], test_size=0.0025, stratify=train[train['set']=='2test']['stability_at_40'])"
   ],
   "metadata": {
    "collapsed": false
   },
   "id": "28be8b1515c517bd"
  },
  {
   "cell_type": "code",
   "execution_count": null,
   "outputs": [],
   "source": [
    "val_small.to_csv('/home/zhuxh/data/TemStaPro/val_kickup_small.csv')"
   ],
   "metadata": {
    "collapsed": false
   },
   "id": "4f90dbe60d9f0679"
  },
  {
   "cell_type": "code",
   "execution_count": 3,
   "id": "b8a0da0c62574676",
   "metadata": {
    "collapsed": false,
    "ExecuteTime": {
     "end_time": "2023-08-31T07:44:00.832928500Z",
     "start_time": "2023-08-31T07:43:58.917146Z"
    }
   },
   "outputs": [],
   "source": [
    "test = pd.read_csv('/home/zhuxh/data/TemStaPro/test_labels.csv')"
   ]
  },
  {
   "cell_type": "code",
   "execution_count": 5,
   "id": "91459cef29021642",
   "metadata": {
    "collapsed": false,
    "ExecuteTime": {
     "end_time": "2023-08-31T07:44:11.310561100Z",
     "start_time": "2023-08-31T07:44:11.288409300Z"
    }
   },
   "outputs": [
    {
     "data": {
      "text/plain": "(491100, 12)"
     },
     "execution_count": 5,
     "metadata": {},
     "output_type": "execute_result"
    }
   ],
   "source": [
    "test.shape"
   ]
  },
  {
   "cell_type": "code",
   "execution_count": 6,
   "outputs": [],
   "source": [
    "test['seq_len'] = test['sequence'].str.len()\n",
    "test = test[test['seq_len'] < 1000].copy()"
   ],
   "metadata": {
    "collapsed": false,
    "ExecuteTime": {
     "end_time": "2023-08-31T07:44:13.788884800Z",
     "start_time": "2023-08-31T07:44:13.354220400Z"
    }
   },
   "id": "b0866e570d2e551a"
  },
  {
   "cell_type": "code",
   "execution_count": 7,
   "outputs": [
    {
     "data": {
      "text/plain": "(481487, 13)"
     },
     "execution_count": 7,
     "metadata": {},
     "output_type": "execute_result"
    }
   ],
   "source": [
    "test.shape "
   ],
   "metadata": {
    "collapsed": false,
    "ExecuteTime": {
     "end_time": "2023-08-31T07:44:14.998617200Z",
     "start_time": "2023-08-31T07:44:14.983832Z"
    }
   },
   "id": "1b09ac59da690443"
  },
  {
   "cell_type": "code",
   "execution_count": 8,
   "outputs": [],
   "source": [
    "test['sequence'] = test['sequence'].apply(post_process)"
   ],
   "metadata": {
    "collapsed": false,
    "ExecuteTime": {
     "end_time": "2023-08-31T07:44:20.885426700Z",
     "start_time": "2023-08-31T07:44:20.061149200Z"
    }
   },
   "id": "ca51950dac1a61a8"
  },
  {
   "cell_type": "code",
   "execution_count": 9,
   "outputs": [],
   "source": [
    "test.to_csv('/home/zhuxh/data/TemStaPro/test_kickup.csv', index=None)"
   ],
   "metadata": {
    "collapsed": false,
    "ExecuteTime": {
     "end_time": "2023-08-31T07:44:28.022717500Z",
     "start_time": "2023-08-31T07:44:24.375136600Z"
    }
   },
   "id": "1faaf9e3384d45a"
  },
  {
   "cell_type": "code",
   "execution_count": 124,
   "outputs": [],
   "source": [
    "train = pd.read_csv('/home/zhuxh/data/TemStaPro/train_kickup.csv') \n",
    "val = pd.read_csv('/home/zhuxh/data/TemStaPro/val_kickup.csv')\n",
    "test = pd.read_csv('/home/zhuxh/data/TemStaPro/test_kickup.csv')\n",
    "train['group'] = 'train'\n",
    "val['group'] = 'valid'\n",
    "test['group'] = 'test'\n",
    "all_df = pd.concat([train, val, test], axis=0)"
   ],
   "metadata": {
    "collapsed": false,
    "ExecuteTime": {
     "end_time": "2023-08-31T14:01:56.644748700Z",
     "start_time": "2023-08-31T14:01:46.493109400Z"
    }
   },
   "id": "370965ea34ced93a"
  },
  {
   "cell_type": "markdown",
   "source": [],
   "metadata": {
    "collapsed": false
   },
   "id": "b856788286a93cd"
  },
  {
   "cell_type": "code",
   "execution_count": 125,
   "outputs": [
    {
     "data": {
      "text/plain": "         group seq_len                  stability_at_40\n           len     min  max        mean            mean\ngroup                                                  \ntest    481487       8  999  298.890001        0.317288\ntrain  1707756       8  999  299.435244        0.318028\nvalid   426939       8  999  295.344761        0.317912",
      "text/html": "<div>\n<style scoped>\n    .dataframe tbody tr th:only-of-type {\n        vertical-align: middle;\n    }\n\n    .dataframe tbody tr th {\n        vertical-align: top;\n    }\n\n    .dataframe thead tr th {\n        text-align: left;\n    }\n\n    .dataframe thead tr:last-of-type th {\n        text-align: right;\n    }\n</style>\n<table border=\"1\" class=\"dataframe\">\n  <thead>\n    <tr>\n      <th></th>\n      <th>group</th>\n      <th colspan=\"3\" halign=\"left\">seq_len</th>\n      <th>stability_at_40</th>\n    </tr>\n    <tr>\n      <th></th>\n      <th>len</th>\n      <th>min</th>\n      <th>max</th>\n      <th>mean</th>\n      <th>mean</th>\n    </tr>\n    <tr>\n      <th>group</th>\n      <th></th>\n      <th></th>\n      <th></th>\n      <th></th>\n      <th></th>\n    </tr>\n  </thead>\n  <tbody>\n    <tr>\n      <th>test</th>\n      <td>481487</td>\n      <td>8</td>\n      <td>999</td>\n      <td>298.890001</td>\n      <td>0.317288</td>\n    </tr>\n    <tr>\n      <th>train</th>\n      <td>1707756</td>\n      <td>8</td>\n      <td>999</td>\n      <td>299.435244</td>\n      <td>0.318028</td>\n    </tr>\n    <tr>\n      <th>valid</th>\n      <td>426939</td>\n      <td>8</td>\n      <td>999</td>\n      <td>295.344761</td>\n      <td>0.317912</td>\n    </tr>\n  </tbody>\n</table>\n</div>"
     },
     "execution_count": 125,
     "metadata": {},
     "output_type": "execute_result"
    }
   ],
   "source": [
    "all_df.groupby('group').agg({'group': len, 'seq_len': ['min', 'max', 'mean'], 'stability_at_40': 'mean'})"
   ],
   "metadata": {
    "collapsed": false,
    "ExecuteTime": {
     "end_time": "2023-08-31T14:02:10.557832100Z",
     "start_time": "2023-08-31T14:02:10.189937400Z"
    }
   },
   "id": "d18394492f8750cc"
  },
  {
   "cell_type": "code",
   "execution_count": 118,
   "outputs": [],
   "source": [
    "all_df = pd.read_csv('/home/zhuxh/data/TemStaPro/all_df.csv')"
   ],
   "metadata": {
    "collapsed": false,
    "ExecuteTime": {
     "end_time": "2023-08-31T13:58:26.403352100Z",
     "start_time": "2023-08-31T13:58:13.864150900Z"
    }
   },
   "id": "b42223dc0b802227"
  },
  {
   "cell_type": "code",
   "execution_count": 119,
   "outputs": [],
   "source": [
    "all_df['seq_len'] = all_df['sequence'].str.len()"
   ],
   "metadata": {
    "collapsed": false,
    "ExecuteTime": {
     "end_time": "2023-08-31T13:58:28.836188100Z",
     "start_time": "2023-08-31T13:58:26.868190Z"
    }
   },
   "id": "b06cb73819c155c5"
  },
  {
   "cell_type": "code",
   "execution_count": 120,
   "outputs": [
    {
     "data": {
      "text/plain": "         group seq_len                    stability_at_40\n           len     min    max        mean            mean\ngroup                                                    \ntest    435182       8  27313  423.827672        0.271178\ntrain  1835664       8   1022  299.511207        0.320971\nvalid   395964      13   1022  297.590660        0.318895",
      "text/html": "<div>\n<style scoped>\n    .dataframe tbody tr th:only-of-type {\n        vertical-align: middle;\n    }\n\n    .dataframe tbody tr th {\n        vertical-align: top;\n    }\n\n    .dataframe thead tr th {\n        text-align: left;\n    }\n\n    .dataframe thead tr:last-of-type th {\n        text-align: right;\n    }\n</style>\n<table border=\"1\" class=\"dataframe\">\n  <thead>\n    <tr>\n      <th></th>\n      <th>group</th>\n      <th colspan=\"3\" halign=\"left\">seq_len</th>\n      <th>stability_at_40</th>\n    </tr>\n    <tr>\n      <th></th>\n      <th>len</th>\n      <th>min</th>\n      <th>max</th>\n      <th>mean</th>\n      <th>mean</th>\n    </tr>\n    <tr>\n      <th>group</th>\n      <th></th>\n      <th></th>\n      <th></th>\n      <th></th>\n      <th></th>\n    </tr>\n  </thead>\n  <tbody>\n    <tr>\n      <th>test</th>\n      <td>435182</td>\n      <td>8</td>\n      <td>27313</td>\n      <td>423.827672</td>\n      <td>0.271178</td>\n    </tr>\n    <tr>\n      <th>train</th>\n      <td>1835664</td>\n      <td>8</td>\n      <td>1022</td>\n      <td>299.511207</td>\n      <td>0.320971</td>\n    </tr>\n    <tr>\n      <th>valid</th>\n      <td>395964</td>\n      <td>13</td>\n      <td>1022</td>\n      <td>297.590660</td>\n      <td>0.318895</td>\n    </tr>\n  </tbody>\n</table>\n</div>"
     },
     "execution_count": 120,
     "metadata": {},
     "output_type": "execute_result"
    }
   ],
   "source": [
    "all_df.groupby('group').agg({'group': len, 'seq_len': ['min', 'max', 'mean'], 'stability_at_40': 'mean'})"
   ],
   "metadata": {
    "collapsed": false,
    "ExecuteTime": {
     "end_time": "2023-08-31T13:58:33.934908700Z",
     "start_time": "2023-08-31T13:58:33.615623700Z"
    }
   },
   "id": "5faf85e0e4a591e1"
  },
  {
   "cell_type": "code",
   "execution_count": 115,
   "outputs": [],
   "source": [
    "all_df['sequence'] = all_df['sequence'].apply(post_process)"
   ],
   "metadata": {
    "collapsed": false,
    "ExecuteTime": {
     "end_time": "2023-08-31T13:57:31.419695100Z",
     "start_time": "2023-08-31T13:57:26.648122800Z"
    }
   },
   "id": "dc9b7c7445074401"
  },
  {
   "cell_type": "code",
   "execution_count": 62,
   "outputs": [],
   "source": [
    "all_df[all_df['group']=='train'].to_csv('/home/zhuxh/data/TemStaPro/train_raw.csv', index=None)"
   ],
   "metadata": {
    "collapsed": false,
    "ExecuteTime": {
     "end_time": "2023-08-31T11:35:55.797270Z",
     "start_time": "2023-08-31T11:35:40.979439400Z"
    }
   },
   "id": "84d939790edf7f2d"
  },
  {
   "cell_type": "code",
   "execution_count": 64,
   "outputs": [],
   "source": [
    "from sklearn.model_selection import train_test_split\n",
    "_, val_raw_small = train_test_split(all_df[all_df['group']=='valid'], test_size=0.0025, stratify=all_df[all_df['group']=='valid']['stability_at_40'])"
   ],
   "metadata": {
    "collapsed": false,
    "ExecuteTime": {
     "end_time": "2023-08-31T11:38:19.420789700Z",
     "start_time": "2023-08-31T11:38:18.674732500Z"
    }
   },
   "id": "5b36f2c59448428c"
  },
  {
   "cell_type": "code",
   "execution_count": 66,
   "outputs": [],
   "source": [
    "val_raw_small.to_csv('/home/zhuxh/data/TemStaPro/val_raw.csv', index=None)"
   ],
   "metadata": {
    "collapsed": false,
    "ExecuteTime": {
     "end_time": "2023-08-31T11:38:49.569606800Z",
     "start_time": "2023-08-31T11:38:49.538563600Z"
    }
   },
   "id": "932edb790170ed74"
  },
  {
   "cell_type": "code",
   "execution_count": 116,
   "outputs": [],
   "source": [
    "all_df[all_df['group']=='test'].to_csv('/home/zhuxh/data/TemStaPro/test_raw.csv', index=None)"
   ],
   "metadata": {
    "collapsed": false,
    "ExecuteTime": {
     "end_time": "2023-08-31T13:57:47.540921600Z",
     "start_time": "2023-08-31T13:57:42.705776200Z"
    }
   },
   "id": "6721f778ea48dd8"
  },
  {
   "cell_type": "code",
   "execution_count": 2,
   "id": "f6f7b3ddcf14e41d",
   "metadata": {
    "collapsed": false,
    "ExecuteTime": {
     "end_time": "2023-08-25T03:05:59.673070300Z",
     "start_time": "2023-08-25T03:05:59.351882Z"
    }
   },
   "outputs": [],
   "source": [
    "#这里以bert模型为例，使用上述提到的函数\n",
    "from transformers import BertTokenizer"
   ]
  },
  {
   "cell_type": "code",
   "execution_count": 3,
   "id": "90fa64756353180e",
   "metadata": {
    "collapsed": false,
    "ExecuteTime": {
     "end_time": "2023-08-25T03:06:01.532047900Z",
     "start_time": "2023-08-25T03:06:00.277460300Z"
    }
   },
   "outputs": [],
   "source": [
    "tokenizer = BertTokenizer.from_pretrained('bert-base-uncased')\n",
    "text = \"It's a nice day today!\""
   ]
  },
  {
   "cell_type": "code",
   "execution_count": 4,
   "id": "bcb6c06ef019b72",
   "metadata": {
    "collapsed": false,
    "ExecuteTime": {
     "end_time": "2023-08-25T03:06:01.564372700Z",
     "start_time": "2023-08-25T03:06:01.530047500Z"
    }
   },
   "outputs": [
    {
     "name": "stdout",
     "output_type": "stream",
     "text": [
      "tokenize分词结果：\n",
      " ['it', \"'\", 's', 'a', 'nice', 'day', 'today', '!']\n"
     ]
    }
   ],
   "source": [
    "#tokenize,#仅用于分词\n",
    "seg_words = tokenizer.tokenize(text)  \n",
    "print(\"tokenize分词结果：\\n\",seg_words)"
   ]
  },
  {
   "cell_type": "code",
   "execution_count": 5,
   "id": "2bb91f0c5a1c974f",
   "metadata": {
    "collapsed": false,
    "ExecuteTime": {
     "end_time": "2023-08-25T03:06:01.581769800Z",
     "start_time": "2023-08-25T03:06:01.538188100Z"
    }
   },
   "outputs": [
    {
     "name": "stdout",
     "output_type": "stream",
     "text": [
      "tokenize Id:\n",
      " [2009, 1005, 1055, 1037, 3835, 2154, 2651, 999]\n"
     ]
    }
   ],
   "source": [
    "seg_word_id = tokenizer.convert_tokens_to_ids(seg_words)  \n",
    "print(\"tokenize Id:\\n\",seg_word_id)"
   ]
  },
  {
   "cell_type": "code",
   "execution_count": 6,
   "id": "ec781148d5490c00",
   "metadata": {
    "collapsed": false,
    "ExecuteTime": {
     "end_time": "2023-08-25T03:06:01.637845800Z",
     "start_time": "2023-08-25T03:06:01.559295100Z"
    }
   },
   "outputs": [
    {
     "name": "stdout",
     "output_type": "stream",
     "text": [
      "encode结果：\n",
      " [101, 2009, 1005, 1055, 1037, 3835, 2154, 2651, 999, 102]\n"
     ]
    }
   ],
   "source": [
    "#encode,进行分词和token转换，encode=tokenize+convert_tokens_to_ids\n",
    "encode_text = tokenizer.encode(text)\n",
    "print(\"encode结果：\\n\",encode_text)"
   ]
  },
  {
   "cell_type": "code",
   "execution_count": 7,
   "id": "b5f3fdd428b50510",
   "metadata": {
    "collapsed": false,
    "ExecuteTime": {
     "end_time": "2023-08-25T03:06:02.156394500Z",
     "start_time": "2023-08-25T03:06:02.147309500Z"
    }
   },
   "outputs": [
    {
     "data": {
      "text/plain": "['[CLS]', 'it', \"'\", 's', 'a', 'nice', 'day', 'today', '!', '[SEP]']"
     },
     "execution_count": 7,
     "metadata": {},
     "output_type": "execute_result"
    }
   ],
   "source": [
    "tokenizer.convert_ids_to_tokens(encode_text)"
   ]
  },
  {
   "cell_type": "code",
   "execution_count": 8,
   "outputs": [
    {
     "data": {
      "text/plain": "\"It's a nice day today!\""
     },
     "execution_count": 8,
     "metadata": {},
     "output_type": "execute_result"
    }
   ],
   "source": [
    "text "
   ],
   "metadata": {
    "collapsed": false,
    "ExecuteTime": {
     "end_time": "2023-08-25T03:06:03.262233300Z",
     "start_time": "2023-08-25T03:06:03.258228Z"
    }
   },
   "id": "86bb176dcd90131f"
  },
  {
   "cell_type": "code",
   "execution_count": 21,
   "id": "37cb4e10d69659a",
   "metadata": {
    "collapsed": false,
    "ExecuteTime": {
     "end_time": "2023-08-25T03:16:08.707159900Z",
     "start_time": "2023-08-25T03:16:07.728380900Z"
    }
   },
   "outputs": [
    {
     "name": "stdout",
     "output_type": "stream",
     "text": [
      "encode_plus结果：\n",
      " {'input_ids': tensor([[ 101, 2009, 1005, 1055, 1037, 3835, 2154, 2651,  999,  102,    0,    0,\n",
      "            0,    0,    0,    0,    0,    0,    0,    0]]), 'token_type_ids': tensor([[0, 0, 0, 0, 0, 0, 0, 0, 0, 0, 0, 0, 0, 0, 0, 0, 0, 0, 0, 0]]), 'attention_mask': tensor([[1, 1, 1, 1, 1, 1, 1, 1, 1, 1, 0, 0, 0, 0, 0, 0, 0, 0, 0, 0]])}\n"
     ]
    }
   ],
   "source": [
    "#encode_plus,在encode的基础之上生成input_ids、token_type_ids、attention_mask\n",
    "encode_plus_text = tokenizer.encode_plus(text, add_special_tokens=True, padding='max_length', max_length=20, return_tensors='pt')\n",
    "print(\"encode_plus结果：\\n\",encode_plus_text)"
   ]
  },
  {
   "cell_type": "code",
   "execution_count": 19,
   "outputs": [
    {
     "name": "stdout",
     "output_type": "stream",
     "text": [
      "encode_plus结果：\n",
      " {'input_ids': [[101, 2009, 2003, 2204, 102], [101, 7929, 102, 0, 0]], 'token_type_ids': [[0, 0, 0, 0, 0], [0, 0, 0, 0, 0]], 'attention_mask': [[1, 1, 1, 1, 1], [1, 1, 1, 0, 0]]}\n"
     ]
    }
   ],
   "source": [
    "#encode_plus,在encode的基础之上生成input_ids、token_type_ids、attention_mask\n",
    "encode_plus_text = tokenizer.batch_encode_plus(['it is good', 'ok'], add_special_tokens=True, padding='longest')\n",
    "print(\"encode_plus结果：\\n\",encode_plus_text)"
   ],
   "metadata": {
    "collapsed": false,
    "ExecuteTime": {
     "end_time": "2023-08-25T03:10:58.927909300Z",
     "start_time": "2023-08-25T03:10:58.895914600Z"
    }
   },
   "id": "122853754cdac806"
  }
 ],
 "metadata": {
  "kernelspec": {
   "display_name": "Python 3",
   "language": "python",
   "name": "python3"
  },
  "language_info": {
   "codemirror_mode": {
    "name": "ipython",
    "version": 2
   },
   "file_extension": ".py",
   "mimetype": "text/x-python",
   "name": "python",
   "nbconvert_exporter": "python",
   "pygments_lexer": "ipython2",
   "version": "2.7.6"
  }
 },
 "nbformat": 4,
 "nbformat_minor": 5
}
